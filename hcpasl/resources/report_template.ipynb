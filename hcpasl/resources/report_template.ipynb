{
 "cells": [
  {
   "cell_type": "code",
   "execution_count": null,
   "metadata": {},
   "outputs": [],
   "source": [
    "subject_dir = \"insert_subject_dir_here\"\n",
    "outdir = \"insert_outdir_here\""
   ]
  },
  {
   "cell_type": "code",
   "execution_count": null,
   "metadata": {},
   "outputs": [],
   "source": [
    "%matplotlib notebook"
   ]
  },
  {
   "cell_type": "code",
   "execution_count": null,
   "metadata": {},
   "outputs": [],
   "source": [
    "from IPython.display import HTML\n",
    "HTML('''<script>\n",
    "code_show=true; \n",
    "function code_toggle() {\n",
    " if (code_show){\n",
    " $('div.input').hide();\n",
    " } else {\n",
    " $('div.input').show();\n",
    " }\n",
    " code_show = !code_show\n",
    "} \n",
    "$( document ).ready(code_toggle);\n",
    "</script>\n",
    "<form action=\"javascript:code_toggle()\"><input type=\"submit\" value=\"Click here to show/hide code.\"></form>''')"
   ]
  },
  {
   "cell_type": "markdown",
   "metadata": {},
   "source": [
    "# HCP-ASL Pre-processing Pipeline Report\n",
    "\n",
    "This notebook seeks to provide an interactive look at some of the results obtained by running the HCP-ASL Minimal Pre-processing Pipeline. Some useful plots and summary statistics are shown below, with hyperlinks to the different sections so you can jump to the part you're interested in.\n",
    "\n",
    "This notebook also contains code to produce the cells which is hidden by default. This can be shown by clicking the toggle below which reads \"Click here to show/hide code\".\n",
    "\n",
    "This is only meant to provide an initial look at some of the processed data. If you would like to interrogate the results of the pipeline further, it is advised to use tools such as wb_view/FSLEyes/the viewer of your choice."
   ]
  },
  {
   "cell_type": "code",
   "execution_count": null,
   "metadata": {},
   "outputs": [],
   "source": [
    "from pathlib import Path\n",
    "import matplotlib.pyplot as plt\n",
    "import nilearn.plotting\n",
    "import ipywidgets\n",
    "from IPython.display import display\n",
    "import numpy as np\n",
    "import regtricks as rt\n",
    "import nibabel as nb\n",
    "import pandas as pd\n",
    "\n",
    "subject_name = Path(subject_dir).stem\n",
    "print(f\"Subject name: {subject_name}\")"
   ]
  },
  {
   "cell_type": "markdown",
   "metadata": {},
   "source": [
    "## Contents\n",
    "\n",
    "[1. Summary](#Summary)\n",
    "\n",
    "[2. Voxelwise results](#VoxelwiseResults)\n",
    "   \n",
    "[3. Surface-projected Results](#SurfaceResults)\n",
    "\n",
    "[4. Registration Quality](#Registration)\n",
    "\n",
    "[5. Motion Estimates](#MotionEstimates)\n",
    "\n",
    "[6. SE-based Bias Correction](#BiasCorrection)"
   ]
  },
  {
   "cell_type": "markdown",
   "metadata": {},
   "source": [
    "<a id=\"Summary\"></a>"
   ]
  },
  {
   "cell_type": "markdown",
   "metadata": {},
   "source": [
    "## 1. Summary"
   ]
  },
  {
   "cell_type": "markdown",
   "metadata": {},
   "source": [
    "Summary stats to show?\n",
    "\n",
    "* Volumetric Results\n",
    "    * PVC/Non-PVC\n",
    "        * Mean GM/WM perfusion\n",
    "        * Mean GM/WM arrival\n",
    "        * Spatial Coefficient of Variation in GM/WM perfusion\n",
    "        * Spatial Coefficient of Variation in GM/WM aCBV\n",
    "* Surface Results\n",
    "    * Mean and Spatial Coefficient of Variation of surface-projected perfusion\n",
    "    * Mean and Spatial Coefficient of Variation of surface-projected arrival"
   ]
  },
  {
   "cell_type": "markdown",
   "metadata": {},
   "source": [
    "### Volumetric Summary Statistics"
   ]
  },
  {
   "cell_type": "code",
   "execution_count": null,
   "metadata": {},
   "outputs": [],
   "source": [
    "# define summary statistics functions\n",
    "def masked_summary_stats(image, mask):\n",
    "    nanned_arr = np.where(mask.get_fdata()==1., image.get_fdata(), np.nan)\n",
    "    nan_mean = np.nanmean(nanned_arr)\n",
    "    nan_std = np.nanstd(nanned_arr)\n",
    "    spatial_cov = nan_std*100 / nan_mean\n",
    "    return nan_mean, nan_std, spatial_cov"
   ]
  },
  {
   "cell_type": "code",
   "execution_count": null,
   "metadata": {},
   "outputs": [],
   "source": [
    "# voxel-space results directories\n",
    "oxford_asl_dir = Path(subject_dir)/outdir/\"T1w/ASL/OxfordASL/native_space\"\n",
    "pvcorr_dir = oxford_asl_dir/\"pvcorr\"\n",
    "\n",
    "# load tissue masks\n",
    "tissues = (\"wm\", \"gm\")\n",
    "masks = [nb.load(oxford_asl_dir/f\"{tissue}_roi.nii.gz\") for tissue in tissues]\n",
    "\n",
    "# load non-pvc estimates\n",
    "estimate_names = (\"arrival\", \"perfusion_calib\", \"aCBV_calib\")\n",
    "arrival, pcalib, aCBVcalib = [nb.load(oxford_asl_dir/f\"{name}.nii.gz\") for name in estimate_names]\n",
    "(wm_aCBVcalib_stats, gm_aCBVcalib_stats) = [masked_summary_stats(aCBVcalib, mask) for mask in masks]\n",
    "\n",
    "# calculate summary stats in non-pvc estimates\n",
    "arrival_wm, arrival_gm = [masked_summary_stats(arrival, mask) for mask in masks]\n",
    "pcalib_wm, pcalib_gm = [masked_summary_stats(pcalib, mask) for mask in masks]"
   ]
  },
  {
   "cell_type": "code",
   "execution_count": null,
   "metadata": {},
   "outputs": [],
   "source": [
    "# load pvc estimates\n",
    "wm_pvc_estimate_names = (\"arrival_wm_masked\", \"perfusion_wm_calib_masked\")\n",
    "gm_pvc_estimate_names = (\"arrival_masked\", \"perfusion_calib_masked\")\n",
    "pvc_aCBV_name = \"aCBV_calib\"\n",
    "\n",
    "pvc_wm_arrival, pvc_wm_pcalib = [nb.load(pvcorr_dir/f\"{name}.nii.gz\") for name in wm_pvc_estimate_names]\n",
    "pvc_gm_arrival, pvc_gm_pcalib = [nb.load(pvcorr_dir/f\"{name}.nii.gz\") for name in gm_pvc_estimate_names]\n",
    "pvc_aCBVcalib = nb.load(pvcorr_dir/f\"{pvc_aCBV_name}.nii.gz\")\n",
    "\n",
    "# calculate summary stats in pvc estimates\n",
    "(pvc_arrival_wm_stats, pvc_pcalib_wm_stats), (pvc_arrival_gm_stats, pvc_pcalib_gm_stats) = [\n",
    "    [masked_summary_stats(image, mask) for image in images]\n",
    "    for images, mask in zip(((pvc_wm_arrival, pvc_wm_pcalib), (pvc_gm_arrival, pvc_gm_pcalib)), masks)\n",
    "]\n",
    "(pvc_wm_aCBVcalib_stats, pvc_gm_aCBVcalib_stats) = [masked_summary_stats(pvc_aCBVcalib, mask) for mask in masks]"
   ]
  },
  {
   "cell_type": "code",
   "execution_count": null,
   "metadata": {},
   "outputs": [],
   "source": [
    "def plot_table(pvc):\n",
    "    stats = summary_stats[pvc]\n",
    "    tissues = (\"wm\", \"gm\")\n",
    "    df = pd.DataFrame(stats, columns=list(stats.keys()), index=tissues)\n",
    "    print(df.head())\n",
    "\n",
    "# display results\n",
    "pvc = ((\"True\", \"pvc\"), (\"False\", \"nonpvc\"))\n",
    "pvc_value = ipywidgets.Dropdown(options=pvc,\n",
    "                                value=\"pvc\",\n",
    "                                description=\"PVC:\")\n",
    "\n",
    "# get summary stats based on value of pvc_value\n",
    "summary_stats = {\n",
    "    \"pvc\": ((pvc_arrival_wm_stats, pvc_pcalib_wm_stats),\n",
    "            (pvc_arrival_gm_stats, pvc_pcalib_gm_stats),\n",
    "            (pvc_gm_aCBVcalib_stats)),\n",
    "    \"nonpvc\": ((arrival_wm, pcalib_wm),\n",
    "               (arrival_gm, pcalib_gm),\n",
    "               (gm_aCBVcalib_stats))\n",
    "}\n",
    "summary_stats = {\n",
    "    \"pvc\": {\"Mean Arrival\": (pvc_arrival_wm_stats[0], pvc_arrival_gm_stats[0]),\n",
    "            \"SpCoV Arrival\": (pvc_arrival_wm_stats[2], pvc_arrival_gm_stats[2]),\n",
    "            \"Mean Perfusion\": (pvc_pcalib_wm_stats[0], pvc_pcalib_gm_stats[0]),\n",
    "            \"SpCoV Perfusion\": (pvc_pcalib_wm_stats[2], pvc_pcalib_gm_stats[2]),\n",
    "            \"SpCoV aCBV\": (pvc_wm_aCBVcalib_stats[2], pvc_gm_aCBVcalib_stats[2])},\n",
    "    \"nonpvc\": {\"Mean Arrival\": (arrival_wm[0], arrival_gm[0]),\n",
    "               \"SpCoV Arrival\": (arrival_wm[2], arrival_gm[2]),\n",
    "               \"Mean Perfusion\": (pcalib_wm[0], pcalib_gm[0]),\n",
    "               \"SpCoV Perfusion\": (pcalib_wm[2], pcalib_gm[2]),\n",
    "               \"SpCoV aCBV\": (wm_aCBVcalib_stats[2], gm_aCBVcalib_stats[2])}\n",
    "}\n",
    "show_stats = summary_stats[pvc_value.value]\n",
    "\n",
    "# display in table\n",
    "t = ipywidgets.interactive(plot_table,\n",
    "                           pvc=pvc_value,\n",
    "                           tissues=ipywidgets.fixed(tissues),\n",
    "                           stats=ipywidgets.fixed(summary_stats[pvc_value.value]));\n",
    "display(t);"
   ]
  },
  {
   "cell_type": "markdown",
   "metadata": {},
   "source": [
    "### Surface-based Summary Statistics"
   ]
  },
  {
   "cell_type": "code",
   "execution_count": null,
   "metadata": {},
   "outputs": [],
   "source": [
    "def surface_summary_stats(func):\n",
    "    mean = np.mean(func)\n",
    "    std = np.std(func)\n",
    "    SpCoV = std*100 / mean\n",
    "    return mean, std, SpCoV\n",
    "\n",
    "# find projected results\n",
    "cifti_dir = Path(subject_dir)/outdir/\"T1w/ASL/CIFTIPrepare\"\n",
    "sides = (\"L\", \"R\")\n",
    "\n",
    "# load projected perfusion\n",
    "perfusion_calibs = [cifti_dir/f\"perfusion_calib_s2.atlasroi.{side}.32k_fs_LR.func.gii\" for side in sides]\n",
    "l_perf, r_perf = [nilearn.surface.load_surf_data(str(name)) for name in perfusion_calibs]\n",
    "surf_perf_stats = [surface_summary_stats(func) for func in (l_perf, r_perf)]\n",
    "\n",
    "# load projected arrival\n",
    "arrivals = [cifti_dir/f\"arrival_s2.atlasroi.{side}.32k_fs_LR.func.gii\" for side in sides]\n",
    "l_arr, r_arr = [nilearn.surface.load_surf_data(str(name)) for name in arrivals]\n",
    "surf_arr_stats = [surface_summary_stats(func) for func in (l_arr, r_arr)]\n",
    "\n",
    "# find PVC projected results\n",
    "pvc_cifti_dir = Path(subject_dir)/outdir/\"T1w/ASL/CIFTIPrepare/pvcorr\"\n",
    "\n",
    "# load projected perfusion\n",
    "pvc_perfusion_calibs = [pvc_cifti_dir/f\"perfusion_calib_s2.atlasroi.{side}.32k_fs_LR.func.gii\" for side in sides]\n",
    "pvc_l_perf, pvc_r_perf = [nilearn.surface.load_surf_data(str(name)) for name in pvc_perfusion_calibs]\n",
    "pvc_surf_perf_stats = [surface_summary_stats(func) for func in (pvc_l_perf, pvc_r_perf)]\n",
    "\n",
    "# load projected arrival\n",
    "pvc_arrivals = [pvc_cifti_dir/f\"arrival_s2.atlasroi.{side}.32k_fs_LR.func.gii\" for side in sides]\n",
    "pvc_l_arr, pvc_r_arr = [nilearn.surface.load_surf_data(str(name)) for name in pvc_arrivals]\n",
    "pvc_surf_arr_stats = [surface_summary_stats(func) for func in (pvc_l_arr, pvc_r_arr)]"
   ]
  },
  {
   "cell_type": "code",
   "execution_count": null,
   "metadata": {},
   "outputs": [],
   "source": [
    "def plot_surface_table(pvc):\n",
    "    stats = surface_summary_stats[pvc]\n",
    "    df = pd.DataFrame(stats, columns=list(stats.keys()), index=sides)\n",
    "    print(df.head())\n",
    "    \n",
    "# create table for projected results\n",
    "surface_summary_stats = {\n",
    "    \"pvc\":{\"Mean Arrival\": [surf_arr[0] for surf_arr in pvc_surf_arr_stats],\n",
    "            \"SpCoV Arrival\": [surf_arr[2] for surf_arr in pvc_surf_arr_stats],\n",
    "            \"Mean Perfusion\": [surf_perf[0] for surf_perf in pvc_surf_perf_stats],\n",
    "            \"SpCoV Perfusion\": [surf_perf[2] for surf_perf in pvc_surf_perf_stats]},\n",
    "    \"nonpvc\":{\"Mean Arrival\": [surf_arr[0] for surf_arr in surf_arr_stats],\n",
    "              \"SpCoV Arrival\": [surf_arr[2] for surf_arr in surf_arr_stats],\n",
    "              \"Mean Perfusion\": [surf_perf[0] for surf_perf in surf_perf_stats],\n",
    "              \"SpCoV Perfusion\": [surf_perf[2] for surf_perf in surf_perf_stats]}\n",
    "}\n",
    "show_stats = surface_summary_stats[pvc_value.value]\n",
    "\n",
    "# display in table\n",
    "t = ipywidgets.interactive(plot_surface_table,\n",
    "                           pvc=pvc_value,\n",
    "                           tissues=ipywidgets.fixed(tissues),\n",
    "                           stats=ipywidgets.fixed(summary_stats[pvc_value.value]));\n",
    "display(t);"
   ]
  },
  {
   "cell_type": "markdown",
   "metadata": {},
   "source": [
    "<a id=\"VoxelwiseResults\"></a>"
   ]
  },
  {
   "cell_type": "markdown",
   "metadata": {},
   "source": [
    "## 2. Voxelwise Results\n",
    "Voxelwise estimates for arrival time, perfusion and aCBV (both calibrated) are shown below. You can toggle between showing partial volume corrected and non-partial volume corrected results."
   ]
  },
  {
   "cell_type": "code",
   "execution_count": null,
   "metadata": {
    "scrolled": false
   },
   "outputs": [],
   "source": [
    "# set up dictionaries to index when choices are selected in dropdown menus\n",
    "image_names = (\"perfusion_calib.nii.gz\", \"aCBV_calib.nii.gz\", \"arrival.nii.gz\")\n",
    "images = {\"pvc\" : [(name.strip(\".nii.gz\"), str(pvcorr_dir/name)) for name in image_names],\n",
    "          \"nonpvc\" : [(name.strip(\".nii.gz\"), str(oxford_asl_dir/name)) for name in image_names]}\n",
    "maxs = {\"perfusion_calib.nii.gz\": 150.,\n",
    "        \"aCBV_calib.nii.gz\": 5.,\n",
    "        \"arrival.nii.gz\": 5.}\n",
    "vals = {\"perfusion_calib.nii.gz\": 100.,\n",
    "        \"aCBV_calib.nii.gz\": 2.5,\n",
    "        \"arrival.nii.gz\": 2.5}\n",
    "cmaps = {\"perfusion_calib.nii.gz\" : \"cold_hot\",\n",
    "         \"aCBV_calib.nii.gz\" : \"cold_hot\",\n",
    "         \"arrival.nii.gz\" : \"gray\",\n",
    "         \"calib0_gdc_dc.nii.gz\": \"gray\",\n",
    "         \"sebased_bias_dil.nii.gz\": \"gray\",\n",
    "         \"calib0_secorr.nii.gz\": \"gray\"}\n",
    "\n",
    "def display_plot(image_name, threshold, fig, x=0, y=0, z=0):\n",
    "    image_type = image_name.split(\"/\")[-1]\n",
    "    cmap = cmaps[image_type]\n",
    "    if cmap == \"cold_hot\":\n",
    "        vmin = -threshold\n",
    "    else:\n",
    "        vmin = 0.\n",
    "    title = f\"{pvc_value.value} {image_type}\"\n",
    "    fig.clear()\n",
    "    nilearn.plotting.plot_epi(image_name, cut_coords=(x, y, z), cmap=cmap, figure=fig, \n",
    "                              vmin=vmin, vmax=threshold, draw_cross=True, title=title)\n",
    "\n",
    "def update_image_options(change):\n",
    "    image_options.options = images[change['new']]\n",
    "\n",
    "def update_threshold(change):\n",
    "    image_name = change[\"new\"].split(\"/\")[-1]\n",
    "    threshold_slider = w.children[1]\n",
    "    threshold_slider.max = maxs[image_name]\n",
    "    threshold_slider.value = vals[image_name]\n",
    "    \n",
    "# display options for PVC\n",
    "pvc = ((\"True\", \"pvc\"), (\"False\", \"nonpvc\"))\n",
    "pvc_value = ipywidgets.Dropdown(options=pvc,\n",
    "                                value=\"pvc\",\n",
    "                                description=\"PVC:\")\n",
    "display(pvc_value);\n",
    "\n",
    "# display image names for choice of PVC value\n",
    "image_choices = images[pvc_value.value]\n",
    "image_options = ipywidgets.Dropdown(options=image_choices,\n",
    "                                    description=\"Est Param:\")\n",
    "\n",
    "# update image options if PVC choice changes\n",
    "pvc_value.observe(update_image_options, names=\"value\")\n",
    "\n",
    "# plot given current options\n",
    "fig = plt.figure(figsize=(9, 4))\n",
    "x, y, z = [ipywidgets.widgets.IntSlider(min=-100, max=100, step=1, value=0, description=l) for l in (\"x\", \"y\", \"z\")]\n",
    "threshold = ipywidgets.widgets.FloatSlider(min=0.1,\n",
    "                                           max=maxs[image_options.value.split(\"/\")[-1]],\n",
    "                                           value=vals[image_options.value.split(\"/\")[-1]],\n",
    "                                           step=0.1, description=\"Threshold\")\n",
    "w = ipywidgets.interactive(display_plot,\n",
    "                           image_name=image_options,\n",
    "                           threshold=threshold,\n",
    "                           fig=ipywidgets.fixed(fig),\n",
    "                           x=x, y=y, z=z);\n",
    "display(w);\n",
    "\n",
    "# watch for change in image choice\n",
    "w.children[0].observe(update_threshold, names=\"value\")"
   ]
  },
  {
   "cell_type": "markdown",
   "metadata": {},
   "source": [
    "<a id=\"SurfaceResults\"></a>"
   ]
  },
  {
   "cell_type": "markdown",
   "metadata": {},
   "source": [
    "## 3. Surface-projected Results"
   ]
  },
  {
   "cell_type": "markdown",
   "metadata": {},
   "source": [
    "### Surface Perfusion"
   ]
  },
  {
   "cell_type": "code",
   "execution_count": null,
   "metadata": {},
   "outputs": [],
   "source": [
    "# find native surfaces\n",
    "surface_dir = Path(subject_dir)/\"T1w/fsaverage_LR32k\"\n",
    "mid_surfaces = [surface_dir/f\"{subject_name}.{side}.midthickness_MSMAll.32k_fs_LR.surf.gii\" for side in sides]\n",
    "\n",
    "# load surface files using nilearn and merge left and right\n",
    "l_mesh, r_mesh = [nilearn.surface.load_surf_mesh(str(surf)) for surf in mid_surfaces]\n",
    "r_links = r_mesh[1] + len(l_mesh[0])\n",
    "links = np.concatenate((l_mesh[1], r_links), axis=0)\n",
    "locs = np.concatenate((l_mesh[0], r_mesh[0] + (10, 0, 0)), axis=0)\n",
    "meshes = (locs, links)\n",
    "\n",
    "def plot_surface(surface_mesh, surface_estimate, **kwargs):\n",
    "    return nilearn.plotting.view_surf(surface_mesh, surface_estimate, **kwargs);\n",
    "\n",
    "\n",
    "# merge L+R projected perfusion results\n",
    "perf = np.concatenate((l_perf, r_perf), axis=0)\n",
    "surf_mean_perf = np.mean(perf)\n",
    "surf_std_perf = np.std(perf)\n",
    "surf_perf_vmax = surf_mean_perf + 3*surf_std_perf\n",
    "\n",
    "plot_surface(meshes, perf, vmax=surf_perf_vmax)"
   ]
  },
  {
   "cell_type": "markdown",
   "metadata": {},
   "source": [
    "### Surface Arrival Time"
   ]
  },
  {
   "cell_type": "code",
   "execution_count": null,
   "metadata": {},
   "outputs": [],
   "source": [
    "# get projected arrival results and combine into one numpy array for plotting\n",
    "arr = np.concatenate((l_arr, r_arr), axis=0)\n",
    "surf_mean_arr = np.mean(arr)\n",
    "surf_std_arr = np.std(arr)\n",
    "surf_arr_vmax = surf_mean_arr + 3*surf_std_arr\n",
    "plot_surface(meshes, arr, cmap=\"gray\", vmin=0., vmax=surf_arr_vmax, symmetric_cmap=False)"
   ]
  },
  {
   "cell_type": "markdown",
   "metadata": {},
   "source": [
    "<a id=\"Registration\"></a>"
   ]
  },
  {
   "cell_type": "markdown",
   "metadata": {},
   "source": [
    "## 4. Registration Quality"
   ]
  },
  {
   "cell_type": "code",
   "execution_count": null,
   "metadata": {},
   "outputs": [],
   "source": [
    "def display_registration(image, mask, threshold, fig, x=0, y=0, z=0, **kwargs):\n",
    "    fig.clear()\n",
    "    display = nilearn.plotting.plot_epi(image, cut_coords=(x, y, z), figure=fig,\n",
    "                                        vmin=-threshold, vmax=threshold,\n",
    "                                        draw_cross=True, **kwargs)\n",
    "    display.add_contours(mask, levels=[.99], colors=[\"red\"])\n",
    "    \n",
    "# load final asl2struct registration\n",
    "reg_dir = Path(subject_dir)/outdir/\"T1w/ASL/TIs/reg\"\n",
    "asl2struct_name = reg_dir/\"asl2struct.mat\"\n",
    "perfusion_name = Path(subject_dir)/outdir/\"ASL/OxfordASL/native_space/perfusion.nii.gz\"\n",
    "t1w_name = Path(subject_dir)/\"T1w/T1w_acpc_dc_restore.nii.gz\"\n",
    "asl2struct_reg = rt.Registration.from_flirt(asl2struct_name,\n",
    "                                            src=perfusion_name,\n",
    "                                            ref=t1w_name)\n",
    "perfusion_t1w = asl2struct_reg.apply_to_image(src=perfusion_name,\n",
    "                                              ref=t1w_name,\n",
    "                                              order=1)\n",
    "\n",
    "# load and print final cost of bbr registration\n",
    "cost = np.loadtxt(reg_dir/\"asl2orig_mgz_initial_bbr.dat.mincost\")\n",
    "print(f\"Final cost of asl2orig registration via bbregister: {cost[0]:.5f}\")\n",
    "\n",
    "# get white matter surface outline\n",
    "wm_mask = Path(subject_dir)/outdir/\"T1w/ASL/reg/wmmask.nii.gz\"\n",
    "fig = plt.figure(figsize=(9, 4))\n",
    "title = \"Registered initial perfusion estimate\"\n",
    "cmap = \"gray\"\n",
    "threshold = ipywidgets.widgets.FloatSlider(min=0.1,\n",
    "                                           max=30.,\n",
    "                                           value=15.,\n",
    "                                           step=0.1, description=\"Threshold\")\n",
    "x, y, z = [ipywidgets.widgets.IntSlider(min=-100, max=100, step=1, value=0, description=l) for l in (\"x\", \"y\", \"z\")]\n",
    "ipywidgets.interact(display_registration,\n",
    "                    image=ipywidgets.fixed(perfusion_t1w),\n",
    "                    mask=ipywidgets.fixed(str(wm_mask)),\n",
    "                    threshold=threshold,\n",
    "                    fig=ipywidgets.fixed(fig),\n",
    "                    x=x, y=y, z=z,\n",
    "                    title=ipywidgets.fixed(title),\n",
    "                    cmap=ipywidgets.fixed(cmap));"
   ]
  },
  {
   "cell_type": "markdown",
   "metadata": {},
   "source": [
    "<a id=\"MotionEstimates\"></a>"
   ]
  },
  {
   "cell_type": "markdown",
   "metadata": {},
   "source": [
    "## 5. Motion Estimates\n",
    "Plot magnitudes of motion estimates to see if there is a suspicious motion spike."
   ]
  },
  {
   "cell_type": "code",
   "execution_count": null,
   "metadata": {},
   "outputs": [],
   "source": [
    "def display_motion(par_file, motion_type, motion_ax):\n",
    "    motion_ax.clear()\n",
    "    names = motion_dict[motion_type][\"DF labels\"]\n",
    "    labels = motion_dict[motion_type][\"Labels\"]\n",
    "    xlabel, ylabel = motion_dict[motion_type][\"Axis labels\"]\n",
    "    for name, label in zip(names, labels):\n",
    "        motion_ax.plot(np.arange(0, len(par_file)), par_file[name], label=label)\n",
    "    motion_ax.legend(loc='upper right')\n",
    "    motion_ax.set_xlabel(xlabel)\n",
    "    motion_ax.set_ylabel(ylabel)\n",
    "    motion_ax.set_title(f\"Motion estimates for subject {subject_name}\")\n",
    "\n",
    "def update_motion_plot(change):\n",
    "    display_motion(par_file, motion_type.value, motion_ax)\n",
    "    \n",
    "# load mcflirt's .par file as pandas DataFrame\n",
    "par_file = pd.read_csv(Path(subject_dir)/outdir/\"ASL/TIs/MoCo/final_registration_TIs.nii.gz.par\",\n",
    "                       names=[\"xrot\", \"yrot\", \"zrot\", \"x\", \"y\", \"z\"],\n",
    "                       delimiter=\"  \")\n",
    "\n",
    "# set up widget which allows user to choose type of motion to display\n",
    "motion_types = (\"Rotation\", \"Translation\")\n",
    "motion_type = ipywidgets.widgets.Dropdown(options=motion_types,\n",
    "                                          value=\"Rotation\",\n",
    "                                          description=\"Motion type\")\n",
    "motion_dict = {\"Rotation\": {\"DF labels\":(\"xrot\", \"yrot\", \"zrot\"),\n",
    "                            \"Labels\": (r\"$\\theta _x$\", r\"$\\theta _y$\", r\"$\\theta _z$\"),\n",
    "                            \"Axis labels\": (\"Slice number\", \"Rotation (rads)\")},\n",
    "               \"Translation\": {\"DF labels\":(\"x\", \"y\", \"z\"),\n",
    "                               \"Labels\": (\"x\", \"y\", \"z\"),\n",
    "                               \"Axis labels\": (\"Slice number\", \"Translation (mm)\")}}\n",
    "\n",
    "# create figure\n",
    "motion_fig, motion_ax = plt.subplots(1, 1, figsize=(9, 4))\n",
    "\n",
    "# plot\n",
    "display_motion(par_file, motion_type.value, motion_ax)\n",
    "motion_plot = ipywidgets.interactive(display_motion,\n",
    "                                     par_file=ipywidgets.fixed(par_file),\n",
    "                                     motion_type=motion_type,\n",
    "                                     motion_ax=ipywidgets.fixed(motion_ax))\n",
    "display(motion_plot);\n",
    "motion_plot.children[0].observe(update_motion_plot, names=\"value\")"
   ]
  },
  {
   "cell_type": "markdown",
   "metadata": {},
   "source": [
    "<a id=\"BiasCorrection\"></a>"
   ]
  },
  {
   "cell_type": "markdown",
   "metadata": {},
   "source": [
    "## 6. SE-based Bias Correction\n",
    "Allow user to toggle between estimated bias field, uncorrected calibration image and corrected calibration image."
   ]
  },
  {
   "cell_type": "code",
   "execution_count": null,
   "metadata": {},
   "outputs": [],
   "source": [
    "def display_plot(image_name, threshold, fig, x=0, y=0, z=0):\n",
    "    image_type = image_name.split(\"/\")[-1]\n",
    "    cmap = cmaps[image_type]\n",
    "    title = f\"{image_type}\"\n",
    "    fig.clear()\n",
    "    nilearn.plotting.plot_epi(image_name, cut_coords=(x, y, z), cmap=cmap, figure=fig, \n",
    "                              vmin=0., vmax=threshold, draw_cross=True, title=title)\n",
    "\n",
    "def update_threshold(change):\n",
    "    image_name = change[\"new\"].split(\"/\")[-1]\n",
    "    threshold_slider = b.children[1]\n",
    "    threshold_slider.max = bias_maxs[image_name]\n",
    "    threshold_slider.value = bias_def[image_name]\n",
    "    \n",
    "# load calibration image, estimated bias field and corrected calibration image\n",
    "calib_dir = Path(subject_dir)/outdir/\"T1w/ASL/Calib/Calib0\"\n",
    "calib_dcorr = calib_dir/\"DistCorr/calib0_gdc_dc.nii.gz\"\n",
    "sebased_bias = calib_dir/\"SEbased/sebased_bias_dil.nii.gz\"\n",
    "calib_biascorr = calib_dir/\"SEbased/calib0_secorr.nii.gz\"\n",
    "bias_pairs = [(name.name, str(name)) for name in (calib_dcorr, sebased_bias, calib_biascorr)]\n",
    "\n",
    "# create widget to choose between images\n",
    "bias_choice = ipywidgets.Dropdown(options=bias_pairs, description=\"Image:\")\n",
    "\n",
    "# create figure\n",
    "fig = plt.figure(figsize=(9, 4))\n",
    "\n",
    "# set up sensible threshold sliders\n",
    "bias_maxs = {\"calib0_gdc_dc.nii.gz\": 2000,\n",
    "             \"sebased_bias_dil.nii.gz\": 3,\n",
    "             \"calib0_secorr.nii.gz\": 2000}\n",
    "bias_def = {\"calib0_gdc_dc.nii.gz\": 1300,\n",
    "            \"sebased_bias_dil.nii.gz\": 1.5,\n",
    "            \"calib0_secorr.nii.gz\": 1300}\n",
    "threshold = ipywidgets.FloatSlider(min=0.1,\n",
    "                                   max=bias_maxs[bias_choice.value.split(\"/\")[-1]],\n",
    "                                   value=bias_def[bias_choice.value.split(\"/\")[-1]],\n",
    "                                   step=0.1, description=\"Threshold\")\n",
    "x, y, z = [ipywidgets.widgets.IntSlider(min=-100, max=100, step=1, value=0, description=l) for l in (\"x\", \"y\", \"z\")]\n",
    "b = ipywidgets.interactive(display_plot,\n",
    "                           image_name=bias_choice,\n",
    "                           threshold=threshold,\n",
    "                           fig=ipywidgets.fixed(fig),\n",
    "                           x=x, y=y, z=z)\n",
    "display(b);\n",
    "b.children[0].observe(update_threshold, names=\"value\")"
   ]
  }
 ],
 "metadata": {
  "kernelspec": {
   "display_name": "Python 3",
   "language": "python",
   "name": "python3"
  },
  "language_info": {
   "codemirror_mode": {
    "name": "ipython",
    "version": 3
   },
   "file_extension": ".py",
   "mimetype": "text/x-python",
   "name": "python",
   "nbconvert_exporter": "python",
   "pygments_lexer": "ipython3",
   "version": "3.7.10"
  }
 },
 "nbformat": 4,
 "nbformat_minor": 4
}
